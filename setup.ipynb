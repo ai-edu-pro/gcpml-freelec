{
 "cells": [
  {
   "cell_type": "markdown",
   "metadata": {},
   "source": [
    "## Datalab 초기 설정"
   ]
  },
  {
   "cell_type": "markdown",
   "metadata": {},
   "source": [
    "기계 학습 관련 라이브러리의 업데이트와 업스크립트입니다.\n",
    "(다음 코드를 실행해주세요)"
   ]
  },
  {
   "cell_type": "code",
   "execution_count": null,
   "metadata": {
    "collapsed": true
   },
   "outputs": [],
   "source": [
    "%%bash\n",
    "echo \"pip install --force-reinstall google-cloud-vision==0.32.0\" >> /content/datalab/.config/startup.sh\n",
    "echo \"pip install --force-reinstall google-cloud-translate==1.3.1\" >> /content/datalab/.config/startup.sh\n",
    "echo \"pip install --force-reinstall google-cloud-language==1.0.2\" >> /content/datalab/.config/startup.sh\n",
    "cat /content/datalab/.config/startup.sh"
   ]
  },
  {
   "cell_type": "markdown",
   "metadata": {},
   "source": [
    "위의 셀을 실행했다면, Datalab 인스턴스를 다시 실행합니다.\n",
    "  \n",
    "- Cloud Console의 [VM 인스턴스 페이지](https://console.cloud.google.com/compute/instances)에서 Datalab 인스턴스에 체크하고,\n",
    "- 화면 상부의 "리셋"을 클릭해주세요\n"
   ]
  }
 ],
 "metadata": {
  "kernelspec": {
   "display_name": "Python 2",
   "language": "python",
   "name": "python2"
  },
  "language_info": {
   "codemirror_mode": {
    "name": "ipython",
    "version": 2
   },
   "file_extension": ".py",
   "mimetype": "text/x-python",
   "name": "python",
   "nbconvert_exporter": "python",
   "pygments_lexer": "ipython2",
   "version": "2.7.10"
  }
 },
 "nbformat": 4,
 "nbformat_minor": 2
}
